{
 "cells": [
  {
   "cell_type": "code",
   "execution_count": 1,
   "metadata": {},
   "outputs": [],
   "source": [
    "import pandas as pd\n",
    "import numpy as np\n",
    "import matplotlib.pyplot as plt\n",
    "%matplotlib inline\n",
    "from sklearn.model_selection import train_test_split\n",
    "from sklearn.base import BaseEstimator,TransformerMixin\n",
    "from sklearn.preprocessing import Imputer,StandardScaler,LabelBinarizer,PolynomialFeatures,StandardScaler\n",
    "from sklearn.pipeline import FeatureUnion,Pipeline\n",
    "from sklearn.metrics import mean_squared_error\n",
    "from tensorflow.contrib.layers import fully_connected\n",
    "from sklearn.linear_model import SGDRegressor\n",
    "from sklearn.ensemble import RandomForestRegressor,GradientBoostingRegressor\n",
    "from sklearn.tree import DecisionTreeRegressor\n",
    "from sklearn.linear_model import SGDRegressor,Lasso,Ridge,ElasticNet,ElasticNetCV\n",
    "import tensorflow as tf"
   ]
  },
  {
   "cell_type": "code",
   "execution_count": 2,
   "metadata": {
    "collapsed": true
   },
   "outputs": [],
   "source": [
    "raw_dataset=pd.read_csv(r\"..\\datasets\\dsn\\train.xls\")\n",
    "y=raw_dataset['Product_Supermarket_Sales']\n",
    "raw_dataset=raw_dataset.drop(['Supermarket_Identifier','Product_Supermarket_Sales','Product_Identifier','Product_Supermarket_Identifier'],1)"
   ]
  },
  {
   "cell_type": "code",
   "execution_count": 3,
   "metadata": {},
   "outputs": [
    {
     "data": {
      "text/html": [
       "<div>\n",
       "<style>\n",
       "    .dataframe thead tr:only-child th {\n",
       "        text-align: right;\n",
       "    }\n",
       "\n",
       "    .dataframe thead th {\n",
       "        text-align: left;\n",
       "    }\n",
       "\n",
       "    .dataframe tbody tr th {\n",
       "        vertical-align: top;\n",
       "    }\n",
       "</style>\n",
       "<table border=\"1\" class=\"dataframe\">\n",
       "  <thead>\n",
       "    <tr style=\"text-align: right;\">\n",
       "      <th></th>\n",
       "      <th>Product_Weight</th>\n",
       "      <th>Product_Fat_Content</th>\n",
       "      <th>Product_Shelf_Visibility</th>\n",
       "      <th>Product_Type</th>\n",
       "      <th>Product_Price</th>\n",
       "      <th>Supermarket_Opening_Year</th>\n",
       "      <th>Supermarket _Size</th>\n",
       "      <th>Supermarket_Location_Type</th>\n",
       "      <th>Supermarket_Type</th>\n",
       "    </tr>\n",
       "  </thead>\n",
       "  <tbody>\n",
       "    <tr>\n",
       "      <th>3292</th>\n",
       "      <td>13.000</td>\n",
       "      <td>Normal Fat</td>\n",
       "      <td>0.083683</td>\n",
       "      <td>Canned</td>\n",
       "      <td>496.36</td>\n",
       "      <td>2009</td>\n",
       "      <td>NaN</td>\n",
       "      <td>Cluster 2</td>\n",
       "      <td>Supermarket Type1</td>\n",
       "    </tr>\n",
       "    <tr>\n",
       "      <th>660</th>\n",
       "      <td>7.575</td>\n",
       "      <td>Low Fat</td>\n",
       "      <td>0.055502</td>\n",
       "      <td>Dairy</td>\n",
       "      <td>491.44</td>\n",
       "      <td>2009</td>\n",
       "      <td>NaN</td>\n",
       "      <td>Cluster 2</td>\n",
       "      <td>Supermarket Type1</td>\n",
       "    </tr>\n",
       "    <tr>\n",
       "      <th>609</th>\n",
       "      <td>9.695</td>\n",
       "      <td>Normal Fat</td>\n",
       "      <td>0.029159</td>\n",
       "      <td>Canned</td>\n",
       "      <td>436.34</td>\n",
       "      <td>2011</td>\n",
       "      <td>Small</td>\n",
       "      <td>Cluster 2</td>\n",
       "      <td>Supermarket Type1</td>\n",
       "    </tr>\n",
       "  </tbody>\n",
       "</table>\n",
       "</div>"
      ],
      "text/plain": [
       "      Product_Weight Product_Fat_Content  Product_Shelf_Visibility  \\\n",
       "3292          13.000          Normal Fat                  0.083683   \n",
       "660            7.575             Low Fat                  0.055502   \n",
       "609            9.695          Normal Fat                  0.029159   \n",
       "\n",
       "     Product_Type  Product_Price  Supermarket_Opening_Year Supermarket _Size  \\\n",
       "3292       Canned         496.36                      2009               NaN   \n",
       "660         Dairy         491.44                      2009               NaN   \n",
       "609        Canned         436.34                      2011             Small   \n",
       "\n",
       "     Supermarket_Location_Type   Supermarket_Type  \n",
       "3292                 Cluster 2  Supermarket Type1  \n",
       "660                  Cluster 2  Supermarket Type1  \n",
       "609                  Cluster 2  Supermarket Type1  "
      ]
     },
     "execution_count": 3,
     "metadata": {},
     "output_type": "execute_result"
    }
   ],
   "source": [
    "xraw_train,final__x,y_train,final_yl=train_test_split(raw_dataset,y,test_size=.05,random_state=0)\n",
    "xraw_train,xraw_test,y_train,y_test=train_test_split(xraw_train,y_train,test_size=.2,random_state=0)\n",
    "xraw_train.sample(3)"
   ]
  },
  {
   "cell_type": "code",
   "execution_count": 4,
   "metadata": {
    "collapsed": true
   },
   "outputs": [],
   "source": [
    "int_col=['Product_Weight','Product_Shelf_Visibility','Product_Price','Supermarket_Opening_Year']\n",
    "cat_col=[string for string in list(raw_dataset) if string not in int_col]\n",
    "\n",
    "class column_picker(BaseEstimator,TransformerMixin):\n",
    "    def __init__(self,arr,cat=False):\n",
    "        self.pick=arr\n",
    "        self.cat=cat\n",
    "        \n",
    "    def fit(self,x,y=None):\n",
    "        return self\n",
    "        \n",
    "    def transform(self,x,y=None):\n",
    "        if self.cat:\n",
    "            return (x[self.pick].fillna(method='bfill').fillna(method='ffill')).values\n",
    "        else:\n",
    "            return np.log(x[self.pick].values+1)\n",
    "    \n",
    "    def fit_transform(self,x,y=None):\n",
    "        if self.cat:\n",
    "            return pd.get_dummies(x[self.pick].fillna(method='bfill').fillna(method='ffill')).values\n",
    "        else:\n",
    "            return np.log(x[self.pick].values+1)\n",
    "        \n",
    "def evaluate(pred,actual):\n",
    "    mse=mean_squared_error(pred,actual)\n",
    "    return round(np.sqrt(mse),2)"
   ]
  },
  {
   "cell_type": "code",
   "execution_count": 5,
   "metadata": {
    "collapsed": true
   },
   "outputs": [],
   "source": [
    "numpipe=Pipeline([(\"picker\",column_picker(int_col)),(\"imputer\",Imputer()),(\"scaler\",StandardScaler())])\n",
    "catpipe=Pipeline([(\"picker\",column_picker(cat_col,True))])\n",
    "fullpipe=Pipeline([(\"feature_combiner\",FeatureUnion(transformer_list=[(\"numpipe\",numpipe),(\"catpipe\",catpipe)])),(\"poly\",PolynomialFeatures(degree=2))])\n",
    "# linear transform\n",
    "xl_train,xl_test=fullpipe.fit_transform(xraw_train),fullpipe.fit_transform(xraw_test)\n",
    "final_xl=fullpipe.fit_transform(final__x)\n",
    "# tree transform\n",
    "tree_data=pd.get_dummies(raw_dataset).fillna(method=\"ffill\").fillna(method='bfill')\n",
    "xt_train,final_xt,yt_train,final_yt=train_test_split(tree_data,y,test_size=.05,random_state=0)\n",
    "xt_train,xt_test,yt_train,yt_test=train_test_split(xt_train,yt_train,test_size=.2,random_state=0)"
   ]
  },
  {
   "cell_type": "code",
   "execution_count": 9,
   "metadata": {},
   "outputs": [
    {
     "data": {
      "text/plain": [
       "False"
      ]
     },
     "execution_count": 9,
     "metadata": {},
     "output_type": "execute_result"
    }
   ],
   "source": [
    "# numpipe=Pipeline([(\"picker\",column_picker(int_col)),(\"imputer\",Imputer()),(\"scaler\",StandardScaler())])\n",
    "# lincatpipe=Pipeline([(\"picker\",column_picker(cat_col,True)),(\"poly\",PolynomialFeatures(degree=2))])\n",
    "# linfullpipe=FeatureUnion(transformer_list=[(\"numpipe\",numpipe),(\"catpipe\",lincatpipe)])\n",
    "# x_train,x_test=linfullpipe.fit_transform(xraw_train),linfullpipe.fit_transform(xraw_test)\n",
    "# final_x=linfullpipe.fit_transform(final__x)"
   ]
  },
  {
   "cell_type": "code",
   "execution_count": 146,
   "metadata": {
    "collapsed": true
   },
   "outputs": [],
   "source": [
    "class superModel():\n",
    "    \n",
    "    def __init__(self):\n",
    "        self.tree_models=[\n",
    "            RandomForestRegressor(n_estimators=500,max_depth=4),\n",
    "            RandomForestRegressor(n_estimators=100,max_depth=4),\n",
    "            RandomForestRegressor(n_estimators=100,max_features=25,max_depth=4),\n",
    "            RandomForestRegressor(n_estimators=1000,max_depth=3),\n",
    "            GradientBoostingRegressor(alpha=.5,n_estimators=500,max_depth=3,learning_rate=.0091),\n",
    "            GradientBoostingRegressor(alpha=.5,n_estimators=1000,max_depth=3,learning_rate=.007),\n",
    "            GradientBoostingRegressor(alpha=.01,n_estimators=1500,max_depth=3,learning_rate=.006)\n",
    "        ]\n",
    "        self.linear_models=[\n",
    "#             Ridge(alpha=200),\n",
    "#             ElasticNet(alpha=0.0899999999999999999999999997,max_iter=10000,l1_ratio=.65),\n",
    "#             Lasso(alpha=10),\n",
    "        ]\n",
    "        \n",
    "    def fit(self,xtree,ytree,xlinear,ylinear):\n",
    "        ntree=len(self.tree_models)\n",
    "        nlin=len(self.linear_models)\n",
    "        for i in range(ntree):\n",
    "            self.tree_models[i].fit(xtree,ytree)\n",
    "        for i in range(nlin):\n",
    "            self.linear_models[i].fit(xlinear,ylinear)\n",
    "        \n",
    "        return self\n",
    "    \n",
    "    def predict(self,xtree,xlinear):\n",
    "        ntree=len(self.tree_models)\n",
    "        nlin=len(self.linear_models)\n",
    "        n=ntree+nlin\n",
    "        final=self.tree_models[0].predict(xtree)\n",
    "        for i in range(1,ntree):\n",
    "            final+=self.tree_models[i].predict(xtree)\n",
    "        \n",
    "        for j in range(nlin):\n",
    "            final+=self.linear_models[j].predict(xlinear)\n",
    "        self.predictions=final/n\n",
    "        return final/n\n",
    "    \n",
    "    def evaluation(self,xt=None,xl=None,y=None,former=False):\n",
    "        if former:\n",
    "            return evaluate(self.predictions,y)\n",
    "        else:\n",
    "            predictions=self.predict(xt,xl)\n",
    "            return evaluate(predictions,y)"
   ]
  },
  {
   "cell_type": "code",
   "execution_count": 91,
   "metadata": {
    "collapsed": true
   },
   "outputs": [],
   "source": [
    "combined_model=superModel().fit(xt_train,yt_train,xl_train,y_train)"
   ]
  },
  {
   "cell_type": "code",
   "execution_count": 92,
   "metadata": {},
   "outputs": [
    {
     "data": {
      "text/plain": [
       "2853.0599999999999"
      ]
     },
     "execution_count": 92,
     "metadata": {},
     "output_type": "execute_result"
    }
   ],
   "source": [
    "combined_model.evaluation(xt_test,xl_test,yt_test)"
   ]
  },
  {
   "cell_type": "code",
   "execution_count": 93,
   "metadata": {},
   "outputs": [
    {
     "data": {
      "text/plain": [
       "3048.0"
      ]
     },
     "execution_count": 93,
     "metadata": {},
     "output_type": "execute_result"
    }
   ],
   "source": [
    "combined_model.evaluation(final_xt,final_xl,final_yt)"
   ]
  },
  {
   "cell_type": "code",
   "execution_count": 39,
   "metadata": {},
   "outputs": [
    {
     "data": {
      "text/plain": [
       "3099    9494.31\n",
       "2731    5970.56\n",
       "4593    5667.62\n",
       "376     6055.45\n",
       "Name: Product_Supermarket_Sales, dtype: float64"
      ]
     },
     "execution_count": 39,
     "metadata": {},
     "output_type": "execute_result"
    }
   ],
   "source": [
    "final_yl[:4]"
   ]
  },
  {
   "cell_type": "code",
   "execution_count": null,
   "metadata": {
    "collapsed": true
   },
   "outputs": [],
   "source": [
    "#########################finaltest###############################################################################################\n"
   ]
  },
  {
   "cell_type": "code",
   "execution_count": 44,
   "metadata": {},
   "outputs": [
    {
     "data": {
      "text/plain": [
       "(250,)"
      ]
     },
     "execution_count": 44,
     "metadata": {},
     "output_type": "execute_result"
    }
   ],
   "source": [
    "final_yl.shape"
   ]
  },
  {
   "cell_type": "code",
   "execution_count": null,
   "metadata": {
    "collapsed": true
   },
   "outputs": [],
   "source": [
    "################################################################################################################################\n",
    "########################################pre#####################################################################################"
   ]
  },
  {
   "cell_type": "code",
   "execution_count": 43,
   "metadata": {},
   "outputs": [
    {
     "name": "stdout",
     "output_type": "stream",
     "text": [
      "rmse->train:2872.28 test:3072.81\n",
      "r-score->train0.5846706443869527 test:0.5704713609036767\n"
     ]
    }
   ],
   "source": [
    "from sklearn.linear_model import ElasticNet as Model\n",
    "model=Model(alpha=0.0899999999999999999999999997,max_iter=10000,l1_ratio=.65).fit(xl_train,y_train)\n",
    "pred=model.predict(xl_train)\n",
    "t_pred=model.predict(final_xl)\n",
    "print(\"rmse->train:{} test:{}\".format(evaluate(pred,y_train),evaluate(t_pred,final_yl)))\n",
    "print(\"r-score->train{} test:{}\".format(model.score(xl_train,y_train),model.score(xl_test,y_test)))\n",
    "# 2985 20\n",
    "# yes"
   ]
  },
  {
   "cell_type": "code",
   "execution_count": 45,
   "metadata": {},
   "outputs": [
    {
     "name": "stdout",
     "output_type": "stream",
     "text": [
      "rmse->train:2907.47 test:3060.38\n",
      "r-score->train0.5744317932191785 test:0.5774887147150114\n"
     ]
    }
   ],
   "source": [
    "# final model\n",
    "\n",
    "from sklearn.linear_model import Lasso as Model\n",
    "model=Model(alpha=24).fit(xl_train,y_train)\n",
    "pred=model.predict(xl_train)\n",
    "t_pred=model.predict(final_xl)\n",
    "print(\"rmse->train:{} test:{}\".format(evaluate(pred,y_train),evaluate(t_pred,final_yl)))\n",
    "print(\"r-score->train{} test:{}\".format(model.score(xl_train,y_train),model.score(xl_test,y_test)))\n",
    "# 2975\n",
    "# yes"
   ]
  },
  {
   "cell_type": "code",
   "execution_count": 143,
   "metadata": {},
   "outputs": [
    {
     "name": "stdout",
     "output_type": "stream",
     "text": [
      "rmse->train:2822.7 test:2934.98\n",
      "r-score->train0.5988871141425729 test:0.5525737797567668\n"
     ]
    }
   ],
   "source": [
    "# final model\n",
    "\n",
    "from sklearn.linear_model import SGDRegressor as Model\n",
    "model=Model(max_iter=1000).fit(xl_train,y_train)\n",
    "pred=model.predict(xl_train)\n",
    "t_pred=model.predict(xl_test)\n",
    "print(\"rmse->train:{} test:{}\".format(evaluate(pred,y_train),evaluate(t_pred,y_test)))\n",
    "print(\"r-score->train{} test:{}\".format(model.score(xl_train,y_train),model.score(xl_test,y_test)))\n",
    "# 2975\n",
    "# yes"
   ]
  },
  {
   "cell_type": "code",
   "execution_count": 145,
   "metadata": {},
   "outputs": [
    {
     "name": "stdout",
     "output_type": "stream",
     "text": [
      "rmse->train:2926.88 test:2865.91\n",
      "r-score->train0.5687313049285233 test:0.5733859043678944\n"
     ]
    }
   ],
   "source": [
    "# final model\n",
    "\n",
    "from sklearn.linear_model import Lasso as Model\n",
    "model=Model(alpha=50).fit(xl_train,y_train)\n",
    "pred=model.predict(xl_train)\n",
    "t_pred=model.predict(xl_test)\n",
    "print(\"rmse->train:{} test:{}\".format(evaluate(pred,y_train),evaluate(t_pred,y_test)))\n",
    "print(\"r-score->train{} test:{}\".format(model.score(xl_train,y_train),model.score(xl_test,y_test)))\n",
    "# 2975\n",
    "# yes"
   ]
  },
  {
   "cell_type": "code",
   "execution_count": 21,
   "metadata": {},
   "outputs": [
    {
     "name": "stdout",
     "output_type": "stream",
     "text": [
      "rmse->train:3010.33 test:2953.59\n",
      "r-score->train0.5437879544951464 test:0.5468823291898104\n"
     ]
    }
   ],
   "source": [
    "from sklearn.ensemble import RandomForestRegressor as Model\n",
    "model=Model(n_estimators=1000,max_depth=3).fit(xt_train,yt_train)\n",
    "pred=model.predict(xt_train)\n",
    "t_pred=model.predict(xt_test)\n",
    "print(\"rmse->train:{} test:{}\".format(evaluate(pred,yt_train),evaluate(t_pred,yt_test)))\n",
    "print(\"r-score->train{} test:{}\".format(model.score(xt_train,yt_train),model.score(xt_test,yt_test)))\n",
    "# hell yes"
   ]
  },
  {
   "cell_type": "code",
   "execution_count": 165,
   "metadata": {},
   "outputs": [
    {
     "name": "stdout",
     "output_type": "stream",
     "text": [
      "rmse->train:2897.86 test:2876.95\n",
      "r-score->train0.5930665897561566 test:0.5364837603155334\n"
     ]
    }
   ],
   "source": [
    "from sklearn.ensemble import RandomForestRegressor as Model\n",
    "model=Model(n_estimators=100,max_depth=4).fit(xt_train,yt_train)\n",
    "pred=model.predict(xt_train)\n",
    "t_pred=model.predict(xt_test)\n",
    "print(\"rmse->train:{} test:{}\".format(evaluate(pred,yt_train),evaluate(t_pred,yt_test)))\n",
    "print(\"r-score->train{} test:{}\".format(model.score(xt_train,yt_train),model.score(xt_test,yt_test)))\n",
    "# 2948\n",
    "# hell yes"
   ]
  },
  {
   "cell_type": "code",
   "execution_count": 20,
   "metadata": {},
   "outputs": [
    {
     "name": "stdout",
     "output_type": "stream",
     "text": [
      "rmse->train:2894.81 test:2870.09\n",
      "r-score->train0.5781317319245332 test:0.5721403053559833\n"
     ]
    }
   ],
   "source": [
    "from sklearn.ensemble import RandomForestRegressor as Model\n",
    "model=Model(n_estimators=100,max_features=25,max_depth=4).fit(xt_train,yt_train)\n",
    "pred=model.predict(xt_train)\n",
    "t_pred=model.predict(xt_test)\n",
    "print(\"rmse->train:{} test:{}\".format(evaluate(pred,yt_train),evaluate(t_pred,yt_test)))\n",
    "print(\"r-score->train{} test:{}\".format(model.score(xt_train,yt_train),model.score(xt_test,yt_test)))\n",
    "# 2948\n",
    "# hell yes"
   ]
  },
  {
   "cell_type": "code",
   "execution_count": 170,
   "metadata": {},
   "outputs": [
    {
     "name": "stdout",
     "output_type": "stream",
     "text": [
      "rmse->train:2896.34 test:2871.88\n",
      "r-score->train0.593492468277109 test:0.5381177887751254\n"
     ]
    }
   ],
   "source": [
    "from sklearn.ensemble import RandomForestRegressor as Model\n",
    "model=Model(n_estimators=1000,max_depth=4).fit(xt_train,yt_train)\n",
    "pred=model.predict(xt_train)\n",
    "t_pred=model.predict(xt_test)\n",
    "print(\"rmse->train:{} test:{}\".format(evaluate(pred,yt_train),evaluate(t_pred,yt_test)))\n",
    "print(\"r-score->train{} test:{}\".format(model.score(xt_train,yt_train),model.score(xt_test,yt_test)))\n",
    "# 2948\n",
    "# hell yes"
   ]
  },
  {
   "cell_type": "code",
   "execution_count": 73,
   "metadata": {},
   "outputs": [
    {
     "name": "stdout",
     "output_type": "stream",
     "text": [
      "rmse->train:2893.06 test:2883.95\n",
      "r-score->train0.5786415092970274 test:0.5679995717099718\n"
     ]
    }
   ],
   "source": [
    "from sklearn.ensemble import GradientBoostingRegressor as Model\n",
    "model=Model(alpha=.5,n_estimators=500,max_depth=2,learning_rate=.0091).fit(xt_train,yt_train)\n",
    "pred=model.predict(xt_train)\n",
    "t_pred=model.predict(xt_test)\n",
    "print(\"rmse->train:{} test:{}\".format(evaluate(pred,yt_train),evaluate(t_pred,yt_test)))\n",
    "print(\"r-score->train{} test:{}\".format(model.score(xt_train,yt_train),model.score(xt_test,yt_test)))"
   ]
  },
  {
   "cell_type": "code",
   "execution_count": 22,
   "metadata": {},
   "outputs": [
    {
     "name": "stdout",
     "output_type": "stream",
     "text": [
      "rmse->train:2760.49 test:2871.47\n",
      "r-score->train0.6163710572015624 test:0.5717279201830983\n"
     ]
    }
   ],
   "source": [
    "from sklearn.ensemble import GradientBoostingRegressor as Model\n",
    "model=Model(alpha=.5,n_estimators=1000,max_depth=3,learning_rate=.007).fit(xt_train,yt_train)\n",
    "pred=model.predict(xt_train)\n",
    "t_pred=model.predict(xt_test)\n",
    "print(\"rmse->train:{} test:{}\".format(evaluate(pred,yt_train),evaluate(t_pred,yt_test)))\n",
    "print(\"r-score->train{} test:{}\".format(model.score(xt_train,yt_train),model.score(xt_test,yt_test)))"
   ]
  },
  {
   "cell_type": "code",
   "execution_count": 25,
   "metadata": {},
   "outputs": [
    {
     "name": "stdout",
     "output_type": "stream",
     "text": [
      "rmse->train:2840.7 test:2877.69\n",
      "r-score->train0.5937549105778037 test:0.5698716806154065\n"
     ]
    }
   ],
   "source": [
    "from sklearn.ensemble import GradientBoostingRegressor as Model\n",
    "model=Model(alpha=.01,n_estimators=1500,max_depth=3,learning_rate=.006).fit(xt_train,yt_train)\n",
    "pred=model.predict(xt_train)\n",
    "t_pred=model.predict(xt_test)\n",
    "print(\"rmse->train:{} test:{}\".format(evaluate(pred,yt_train),evaluate(t_pred,yt_test)))\n",
    "print(\"r-score->train{} test:{}\".format(model.score(xt_train,yt_train),model.score(xt_test,yt_test)))"
   ]
  },
  {
   "cell_type": "code",
   "execution_count": null,
   "metadata": {
    "collapsed": true
   },
   "outputs": [],
   "source": [
    "################################################################################################################################\n",
    "##############################################################submission########################################################\n",
    "################################################################################################################################\n",
    "################################################################################################################################"
   ]
  },
  {
   "cell_type": "code",
   "execution_count": 94,
   "metadata": {
    "collapsed": true
   },
   "outputs": [],
   "source": [
    "final=pd.read_csv(r\"../datasets/dsn/test.xls\")\n",
    "final=final.drop(['Supermarket_Identifier','Product_Identifier','Product_Supermarket_Identifier'],1)\n",
    "\n",
    "final_xl=fullpipe.fit_transform(final)\n",
    "final_xt=pd.get_dummies(final).fillna(method=\"ffill\").fillna(method='bfill')\n",
    "\n",
    "fullxl=fullpipe.fit_transform(raw_dataset)\n",
    "fullxt=pd.get_dummies(raw_dataset).fillna(method=\"ffill\").fillna(method='bfill')"
   ]
  },
  {
   "cell_type": "code",
   "execution_count": 95,
   "metadata": {
    "collapsed": true
   },
   "outputs": [
    {
     "data": {
      "text/html": [
       "<div>\n",
       "<style>\n",
       "    .dataframe thead tr:only-child th {\n",
       "        text-align: right;\n",
       "    }\n",
       "\n",
       "    .dataframe thead th {\n",
       "        text-align: left;\n",
       "    }\n",
       "\n",
       "    .dataframe tbody tr th {\n",
       "        vertical-align: top;\n",
       "    }\n",
       "</style>\n",
       "<table border=\"1\" class=\"dataframe\">\n",
       "  <thead>\n",
       "    <tr style=\"text-align: right;\">\n",
       "      <th></th>\n",
       "      <th>Product_Weight</th>\n",
       "      <th>Product_Fat_Content</th>\n",
       "      <th>Product_Shelf_Visibility</th>\n",
       "      <th>Product_Type</th>\n",
       "      <th>Product_Price</th>\n",
       "      <th>Supermarket_Opening_Year</th>\n",
       "      <th>Supermarket _Size</th>\n",
       "      <th>Supermarket_Location_Type</th>\n",
       "      <th>Supermarket_Type</th>\n",
       "    </tr>\n",
       "  </thead>\n",
       "  <tbody>\n",
       "    <tr>\n",
       "      <th>0</th>\n",
       "      <td>8.270</td>\n",
       "      <td>Normal Fat</td>\n",
       "      <td>0.214125</td>\n",
       "      <td>Soft Drinks</td>\n",
       "      <td>459.98</td>\n",
       "      <td>2005</td>\n",
       "      <td>NaN</td>\n",
       "      <td>Cluster 3</td>\n",
       "      <td>Grocery Store</td>\n",
       "    </tr>\n",
       "    <tr>\n",
       "      <th>1</th>\n",
       "      <td>8.270</td>\n",
       "      <td>Normal Fat</td>\n",
       "      <td>0.127821</td>\n",
       "      <td>Soft Drinks</td>\n",
       "      <td>464.98</td>\n",
       "      <td>1994</td>\n",
       "      <td>High</td>\n",
       "      <td>Cluster 3</td>\n",
       "      <td>Supermarket Type1</td>\n",
       "    </tr>\n",
       "    <tr>\n",
       "      <th>2</th>\n",
       "      <td>7.390</td>\n",
       "      <td>Low Fat</td>\n",
       "      <td>0.082171</td>\n",
       "      <td>Soft Drinks</td>\n",
       "      <td>477.38</td>\n",
       "      <td>1994</td>\n",
       "      <td>High</td>\n",
       "      <td>Cluster 3</td>\n",
       "      <td>Supermarket Type1</td>\n",
       "    </tr>\n",
       "    <tr>\n",
       "      <th>3</th>\n",
       "      <td>6.115</td>\n",
       "      <td>Normal Fat</td>\n",
       "      <td>0.011791</td>\n",
       "      <td>Soft Drinks</td>\n",
       "      <td>472.63</td>\n",
       "      <td>2005</td>\n",
       "      <td>NaN</td>\n",
       "      <td>Cluster 3</td>\n",
       "      <td>Grocery Store</td>\n",
       "    </tr>\n",
       "    <tr>\n",
       "      <th>4</th>\n",
       "      <td>6.115</td>\n",
       "      <td>Normal Fat</td>\n",
       "      <td>0.007038</td>\n",
       "      <td>Soft Drinks</td>\n",
       "      <td>473.13</td>\n",
       "      <td>1994</td>\n",
       "      <td>High</td>\n",
       "      <td>Cluster 3</td>\n",
       "      <td>Supermarket Type1</td>\n",
       "    </tr>\n",
       "  </tbody>\n",
       "</table>\n",
       "</div>"
      ],
      "text/plain": [
       "   Product_Weight Product_Fat_Content  Product_Shelf_Visibility Product_Type  \\\n",
       "0           8.270          Normal Fat                  0.214125  Soft Drinks   \n",
       "1           8.270          Normal Fat                  0.127821  Soft Drinks   \n",
       "2           7.390             Low Fat                  0.082171  Soft Drinks   \n",
       "3           6.115          Normal Fat                  0.011791  Soft Drinks   \n",
       "4           6.115          Normal Fat                  0.007038  Soft Drinks   \n",
       "\n",
       "   Product_Price  Supermarket_Opening_Year Supermarket _Size  \\\n",
       "0         459.98                      2005               NaN   \n",
       "1         464.98                      1994              High   \n",
       "2         477.38                      1994              High   \n",
       "3         472.63                      2005               NaN   \n",
       "4         473.13                      1994              High   \n",
       "\n",
       "  Supermarket_Location_Type   Supermarket_Type  \n",
       "0                 Cluster 3      Grocery Store  \n",
       "1                 Cluster 3  Supermarket Type1  \n",
       "2                 Cluster 3  Supermarket Type1  \n",
       "3                 Cluster 3      Grocery Store  \n",
       "4                 Cluster 3  Supermarket Type1  "
      ]
     },
     "execution_count": 95,
     "metadata": {},
     "output_type": "execute_result"
    }
   ],
   "source": [
    "final.head()"
   ]
  },
  {
   "cell_type": "code",
   "execution_count": 147,
   "metadata": {
    "collapsed": true
   },
   "outputs": [],
   "source": [
    "model=superModel().fit(fullxt,y,fullxl,y)\n",
    "predictions=model.predict(final_xt,final_xl)"
   ]
  },
  {
   "cell_type": "code",
   "execution_count": 153,
   "metadata": {
    "collapsed": true
   },
   "outputs": [],
   "source": [
    "# output\n",
    "form=pd.read_csv(r\"dsn/final.csv\")\n",
    "# form[\"Product_Supermarket_Sales\"]=predictions\n",
    "form[\"Product_Supermarket_Sales\"]=data\n",
    "form.to_csv(r\"com_allalltree_straw.csv\")"
   ]
  },
  {
   "cell_type": "code",
   "execution_count": 149,
   "metadata": {},
   "outputs": [
    {
     "data": {
      "text/plain": [
       "array([ 1234.209215  ,  8092.97419088,  8090.44757348, ...,  9332.08151538,\n",
       "        1395.19099919,  8081.26035279])"
      ]
     },
     "execution_count": 149,
     "metadata": {},
     "output_type": "execute_result"
    }
   ],
   "source": [
    "predictions"
   ]
  },
  {
   "cell_type": "code",
   "execution_count": 150,
   "metadata": {},
   "outputs": [
    {
     "data": {
      "text/plain": [
       "array([ 1423.095938,  7853.438402,  7948.840838, ...,  9955.984713,\n",
       "        1509.035899,  7667.560609])"
      ]
     },
     "execution_count": 150,
     "metadata": {},
     "output_type": "execute_result"
    }
   ],
   "source": [
    "one=pd.read_csv(r\"fall.csv\")\n",
    "one[\"Product_Supermarket_Sales\"].values"
   ]
  },
  {
   "cell_type": "code",
   "execution_count": 151,
   "metadata": {
    "collapsed": true
   },
   "outputs": [],
   "source": [
    "data=(one[\"Product_Supermarket_Sales\"]+predictions)/2"
   ]
  },
  {
   "cell_type": "code",
   "execution_count": 152,
   "metadata": {
    "collapsed": true
   },
   "outputs": [
    {
     "data": {
      "text/plain": [
       "0       1328.652577\n",
       "1       7973.206296\n",
       "2       8019.644206\n",
       "3       1416.838119\n",
       "4       7928.669678\n",
       "5       4374.805974\n",
       "6       7918.548389\n",
       "7       4355.166184\n",
       "8       2677.605973\n",
       "9       6754.372126\n",
       "10      2761.570249\n",
       "11      2624.101863\n",
       "12      2589.041166\n",
       "13      2715.426180\n",
       "14      2503.240886\n",
       "15      6654.945796\n",
       "16      2756.995420\n",
       "17      2621.506754\n",
       "18      5284.073954\n",
       "19      5305.111750\n",
       "20      3360.611384\n",
       "21       363.509634\n",
       "22      7705.591677\n",
       "23      3629.455786\n",
       "24      3532.204254\n",
       "25      1800.913816\n",
       "26      9048.094337\n",
       "27      9541.013934\n",
       "28      7509.919347\n",
       "29      2817.716498\n",
       "           ...     \n",
       "3502    2678.312786\n",
       "3503    2750.960068\n",
       "3504    2563.588978\n",
       "3505    2585.228865\n",
       "3506    4395.427741\n",
       "3507    7994.541180\n",
       "3508     710.751916\n",
       "3509    4305.756704\n",
       "3510    9861.182556\n",
       "3511    9182.914770\n",
       "3512    9437.499987\n",
       "3513    9722.924715\n",
       "3514    2744.078004\n",
       "3515    2460.263385\n",
       "3516    6464.529510\n",
       "3517    2680.656816\n",
       "3518    2617.337849\n",
       "3519    8976.293805\n",
       "3520    9457.757251\n",
       "3521    9718.915304\n",
       "3522    5224.244083\n",
       "3523    8630.252369\n",
       "3524    5155.577485\n",
       "3525    5110.675584\n",
       "3526    5154.941770\n",
       "3527    1716.762567\n",
       "3528    9746.547915\n",
       "3529    9644.033114\n",
       "3530    1452.113449\n",
       "3531    7874.410481\n",
       "Name: Product_Supermarket_Sales, Length: 3532, dtype: float64"
      ]
     },
     "execution_count": 152,
     "metadata": {},
     "output_type": "execute_result"
    }
   ],
   "source": [
    "data"
   ]
  },
  {
   "cell_type": "code",
   "execution_count": 2,
   "metadata": {
    "collapsed": true
   },
   "outputs": [],
   "source": []
  },
  {
   "cell_type": "code",
   "execution_count": null,
   "metadata": {
    "collapsed": true
   },
   "outputs": [],
   "source": []
  },
  {
   "cell_type": "code",
   "execution_count": 6,
   "metadata": {
    "collapsed": true
   },
   "outputs": [],
   "source": []
  },
  {
   "cell_type": "code",
   "execution_count": 41,
   "metadata": {},
   "outputs": [
    {
     "data": {
      "text/plain": [
       "<function tensorflow.contrib.framework.python.ops.arg_scope.arg_scope>"
      ]
     },
     "execution_count": 41,
     "metadata": {},
     "output_type": "execute_result"
    }
   ],
   "source": [
    "tf.contrib.framework.arg_scope"
   ]
  },
  {
   "cell_type": "code",
   "execution_count": 6,
   "metadata": {
    "collapsed": true
   },
   "outputs": [],
   "source": [
    "dsn=tf.Graph()\n",
    "n=xl_train.shape[1]\n",
    "with dsn.as_default():\n",
    "    x=tf.placeholder(tf.float32,shape=(None,n))\n",
    "    y=tf.placeholder(tf.float32,shape=(None,1))\n",
    "    drop=tf.placeholder(tf.float32)\n",
    "    with tf.contrib.framework.arg_scope(\n",
    "        [fully_connected],\n",
    "        weights_regularizer=tf.contrib.layers.l1_regularizer(scale=0.05)\n",
    "    ):\n",
    "        hidden1=tf.nn.dropout(fully_connected(x,200,activation_fn=tf.nn.relu),drop)\n",
    "#         hidden2=tf.nn.dropout(fully_connected(hidden1,500,activation_fn=tf.nn.elu),drop)\n",
    "#         hidden3=tf.nn.dropout(fully_connected(hidden2,50,activation_fn=tf.nn.relu),drop)\n",
    "        pred=fully_connected(hidden1,1,activation_fn=None)\n",
    "    base_loss=tf.sqrt(tf.reduce_mean(tf.square(pred-y)))\n",
    "    reg_loss=tf.get_collection(tf.GraphKeys.REGULARIZATION_LOSSES)\n",
    "    loss=tf.add_n([base_loss]+reg_loss,name='loss')\n",
    "    train_op=tf.train.AdamOptimizer(0.001).minimize(loss)\n",
    "    saver=tf.train.Saver()"
   ]
  },
  {
   "cell_type": "code",
   "execution_count": null,
   "metadata": {},
   "outputs": [
    {
     "name": "stdout",
     "output_type": "stream",
     "text": [
      "initial loss:[7763.4712]\n",
      "epoch:0 train_loss:7818.29150390625 test_loss:7757.55322265625\n",
      "epoch:100 train_loss:7552.37451171875 test_loss:7497.11865234375\n",
      "epoch:200 train_loss:7499.16259765625 test_loss:7442.216796875\n",
      "epoch:300 train_loss:7355.71826171875 test_loss:7295.59912109375\n",
      "epoch:400 train_loss:7099.6533203125 test_loss:7034.8134765625\n",
      "epoch:500 train_loss:6735.9501953125 test_loss:6665.10791015625\n",
      "epoch:600 train_loss:6277.5908203125 test_loss:6203.8837890625\n",
      "epoch:700 train_loss:5762.90673828125 test_loss:5685.49072265625\n",
      "epoch:800 train_loss:5246.23974609375 test_loss:5161.994140625\n",
      "epoch:900 train_loss:4791.236328125 test_loss:4693.900390625\n",
      "epoch:1000 train_loss:4424.4501953125 test_loss:4327.16943359375\n",
      "epoch:1100 train_loss:4165.05419921875 test_loss:4071.865966796875\n",
      "epoch:1200 train_loss:4007.99072265625 test_loss:3906.561767578125\n",
      "epoch:1300 train_loss:3885.513671875 test_loss:3797.345947265625\n",
      "epoch:1400 train_loss:3810.29931640625 test_loss:3719.79736328125\n",
      "epoch:1500 train_loss:3747.05224609375 test_loss:3662.09521484375\n",
      "epoch:1600 train_loss:3698.8291015625 test_loss:3617.51953125\n",
      "epoch:1700 train_loss:3660.484619140625 test_loss:3582.37890625\n",
      "epoch:1800 train_loss:3629.764892578125 test_loss:3552.93212890625\n",
      "epoch:1900 train_loss:3593.9775390625 test_loss:3527.874267578125\n",
      "epoch:2000 train_loss:3582.32373046875 test_loss:3506.509521484375\n",
      "epoch:2100 train_loss:3552.336669921875 test_loss:3487.28076171875\n"
     ]
    }
   ],
   "source": [
    "n_epoch=100000\n",
    "with dsn.as_default():\n",
    "    with tf.Session() as sess:\n",
    "        sess.run(tf.global_variables_initializer())\n",
    "#         saver.restore(sess,r\"/temp/tf_models/dsn.ckpt\")\n",
    "        initial_loss=sess.run([loss],{x:xl_test,y:y_test.values.reshape(-1,1),drop:1})\n",
    "        print(\"initial loss:{}\".format(initial_loss))\n",
    "        for epoch in range(n_epoch):\n",
    "            _,train_loss=sess.run([train_op,loss],{x:xl_train,y:y_train.values.reshape(-1,1),drop:.85})\n",
    "            test_loss=sess.run([loss],{x:xl_test,y:y_test.values.reshape(-1,1),drop:1})\n",
    "            if epoch%100==0:\n",
    "                saver.save(sess,r\"/temp/tf_models/dsn.ckpt\")\n",
    "                print(\"epoch:{} train_loss:{} test_loss:{}\".format(epoch,train_loss,*test_loss))\n",
    "    "
   ]
  },
  {
   "cell_type": "code",
   "execution_count": null,
   "metadata": {
    "collapsed": true
   },
   "outputs": [],
   "source": []
  },
  {
   "cell_type": "code",
   "execution_count": null,
   "metadata": {
    "collapsed": true
   },
   "outputs": [],
   "source": []
  }
 ],
 "metadata": {
  "kernelspec": {
   "display_name": "Python 3",
   "language": "python",
   "name": "python3"
  },
  "language_info": {
   "codemirror_mode": {
    "name": "ipython",
    "version": 3
   },
   "file_extension": ".py",
   "mimetype": "text/x-python",
   "name": "python",
   "nbconvert_exporter": "python",
   "pygments_lexer": "ipython3",
   "version": "3.6.2"
  }
 },
 "nbformat": 4,
 "nbformat_minor": 2
}
